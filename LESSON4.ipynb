{
 "cells": [
  {
   "cell_type": "code",
   "execution_count": 5,
   "metadata": {},
   "outputs": [
    {
     "data": {
      "text/plain": [
       "[1, 2, 3, 4, 5]"
      ]
     },
     "execution_count": 5,
     "metadata": {},
     "output_type": "execute_result"
    }
   ],
   "source": [
    "l2=list((1,2,3,4,5))\n",
    "l2"
   ]
  },
  {
   "cell_type": "code",
   "execution_count": 15,
   "metadata": {},
   "outputs": [
    {
     "name": "stdout",
     "output_type": "stream",
     "text": [
      "name,chinese,english,math,history,health\n",
      "student1,76,55,51,87,75\n",
      "student2,54,96,60,92,78\n",
      "student3,95,65,86,75,64\n",
      "student4,69,76,85,79,56\n",
      "student5,74,57,82,97,76\n",
      "student6,60,80,71,98,61\n",
      "student7,63,96,74,77,69\n",
      "student8,84,58,83,98,96\n",
      "student9,67,69,79,89,65\n",
      "student10,71,58,53,59,70\n",
      "student11,83,54,70,58,96\n",
      "student12,76,57,89,78,93\n",
      "student13,91,99,81,51,61\n",
      "student14,64,66,56,70,55\n",
      "student15,87,80,59,100,82\n",
      "student16,91,91,80,91,82\n",
      "student17,66,74,83,57,81\n",
      "student18,92,70,61,56,78\n",
      "student19,56,97,94,72,88\n",
      "student20,87,95,63,96,74\n",
      "student21,68,67,50,78,76\n",
      "student22,97,53,63,94,53\n",
      "student23,65,76,61,88,57\n",
      "student24,94,74,79,66,76\n",
      "student25,63,77,96,83,81\n",
      "student26,76,94,73,77,90\n",
      "student27,67,68,77,67,62\n",
      "student28,87,87,96,56,53\n",
      "student29,98,67,82,60,62\n",
      "student30,80,72,86,79,60\n",
      "student31,83,77,58,98,100\n",
      "student32,52,70,56,62,80\n",
      "student33,88,88,80,70,68\n",
      "student34,75,92,75,90,91\n",
      "student35,93,50,70,75,99\n",
      "student36,59,78,75,62,75\n",
      "student37,71,85,54,87,70\n",
      "student38,80,92,59,96,66\n",
      "student39,64,94,100,71,50\n",
      "student40,83,79,98,72,87\n",
      "student41,86,92,99,62,89\n",
      "student42,95,99,84,88,66\n",
      "student43,77,73,70,82,63\n",
      "student44,71,82,90,81,51\n",
      "student45,74,60,79,71,69\n",
      "student46,52,79,55,90,76\n",
      "student47,90,91,89,51,64\n",
      "student48,79,70,53,62,77\n",
      "student49,100,55,66,77,57\n",
      "student50,59,58,94,79,53\n",
      "\n"
     ]
    }
   ],
   "source": [
    "file = open(file='student.csv',encoding='utf-8')\n",
    "content=file.read()\n",
    "print(content)"
   ]
  },
  {
   "cell_type": "code",
   "execution_count": 16,
   "metadata": {},
   "outputs": [],
   "source": [
    "file = open(file='student.csv',encoding='utf-8')\n",
    "file.close()"
   ]
  },
  {
   "cell_type": "code",
   "execution_count": null,
   "metadata": {},
   "outputs": [],
   "source": [
    "with open(file='student.csv',encoding='utf-8') as  file:\n",
    "    content:str"
   ]
  },
  {
   "cell_type": "code",
   "execution_count": null,
   "metadata": {},
   "outputs": [],
   "source": []
  }
 ],
 "metadata": {
  "kernelspec": {
   "display_name": "base",
   "language": "python",
   "name": "python3"
  },
  "language_info": {
   "codemirror_mode": {
    "name": "ipython",
    "version": 3
   },
   "file_extension": ".py",
   "mimetype": "text/x-python",
   "name": "python",
   "nbconvert_exporter": "python",
   "pygments_lexer": "ipython3",
   "version": "3.12.8"
  }
 },
 "nbformat": 4,
 "nbformat_minor": 2
}
